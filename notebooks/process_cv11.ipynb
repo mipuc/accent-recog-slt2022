{
 "cells": [
  {
   "cell_type": "code",
   "execution_count": 1,
   "id": "f01bae7a-11ae-4da0-9c5b-6a8c7f70ae4d",
   "metadata": {},
   "outputs": [
    {
     "name": "stderr",
     "output_type": "stream",
     "text": [
      "/home/lorenzg/.local/lib/python3.10/site-packages/tqdm/auto.py:22: TqdmWarning: IProgress not found. Please update jupyter and ipywidgets. See https://ipywidgets.readthedocs.io/en/stable/user_install.html\n",
      "  from .autonotebook import tqdm as notebook_tqdm\n"
     ]
    }
   ],
   "source": [
    "import torchaudio\n",
    "import torch\n",
    "import pandas as pd\n",
    "from speechbrain.pretrained import EncoderClassifier\n",
    "from sklearn.metrics import confusion_matrix, ConfusionMatrixDisplay, classification_report\n",
    "from sklearn.manifold import TSNE\n",
    "import matplotlib.pyplot as plt\n",
    "import matplotlib\n",
    "import numpy as np\n",
    "\n",
    "!export OMP_NUM_THREADS=1"
   ]
  },
  {
   "cell_type": "code",
   "execution_count": 7,
   "id": "ef3b9b17-cb60-4d00-a4d7-9f2107506434",
   "metadata": {},
   "outputs": [
    {
     "name": "stderr",
     "output_type": "stream",
     "text": [
      "/data/vokquant/accent_recog/lib/python3.10/site-packages/datasets/load.py:1461: FutureWarning: The repository for mozilla-foundation/common_voice_11_0 contains custom code which must be executed to correctly load the dataset. You can inspect the repository content at https://hf.co/datasets/mozilla-foundation/common_voice_11_0\n",
      "You can avoid this message in future by passing the argument `trust_remote_code=True`.\n",
      "Passing `trust_remote_code=True` will be mandatory to load this dataset from the next major release of `datasets`.\n",
      "  warnings.warn(\n"
     ]
    }
   ],
   "source": [
    "from datasets import load_dataset\n",
    "\n",
    "# To load common voice\n",
    "common_voice_version = \"mozilla-foundation/common_voice_11_0\"\n",
    "language = \"de\"\n",
    "common_voice = load_dataset(common_voice_version, language, split=\"validation\", streaming=True)"
   ]
  },
  {
   "cell_type": "code",
   "execution_count": 8,
   "id": "144bd74e-d9a7-4041-8116-0f43a49e3fce",
   "metadata": {},
   "outputs": [],
   "source": [
    "cv_filtered = common_voice.filter(lambda example: len(example['accent']) > 0)\n",
    "#print(next(iter(common_voice)))"
   ]
  },
  {
   "cell_type": "code",
   "execution_count": 9,
   "id": "3dd89159-0e29-44c0-9132-0ee5831675b5",
   "metadata": {},
   "outputs": [
    {
     "name": "stderr",
     "output_type": "stream",
     "text": [
      "Reading metadata...: 16082it [00:02, 7302.03it/s]\n"
     ]
    },
    {
     "name": "stdout",
     "output_type": "stream",
     "text": [
      "{'client_id': '5dfa978d363da129606377dc0be9b4027132c57b31543b9a1b1dfbacb2e22fc85fc8e052de828a06cba179ec26a2fd36d3f2a2047316597af0c4f8d1a69191f5', 'path': 'de_dev_0/common_voice_de_17745113.mp3', 'audio': {'path': 'de_dev_0/common_voice_de_17745113.mp3', 'array': array([ 0.00000000e+00,  5.34275730e-15,  3.55570286e-15, ...,\n",
      "       -3.36459547e-04, -2.59274646e-04,  6.84560800e-05]), 'sampling_rate': 48000}, 'sentence': 'Das ist doch absolut lächerlich!', 'up_votes': 2, 'down_votes': 0, 'age': 'thirties', 'gender': 'male', 'accent': 'Deutschland Deutsch', 'locale': 'de', 'segment': ''}\n"
     ]
    }
   ],
   "source": [
    "print(next(iter(cv_filtered)))"
   ]
  },
  {
   "cell_type": "code",
   "execution_count": 10,
   "id": "2a2a4f6e-6326-4ecd-b23f-6e6781ceedcc",
   "metadata": {},
   "outputs": [],
   "source": [
    "hola = cv_filtered.take(10)"
   ]
  },
  {
   "cell_type": "code",
   "execution_count": 11,
   "id": "bbf45d43-f4b5-441e-8b02-3b2e9b8d4f66",
   "metadata": {},
   "outputs": [
    {
     "name": "stderr",
     "output_type": "stream",
     "text": [
      "Reading metadata...: 16082it [00:01, 11616.95it/s]\n"
     ]
    },
    {
     "data": {
      "text/plain": [
       "[{'client_id': '5dfa978d363da129606377dc0be9b4027132c57b31543b9a1b1dfbacb2e22fc85fc8e052de828a06cba179ec26a2fd36d3f2a2047316597af0c4f8d1a69191f5',\n",
       "  'path': 'de_dev_0/common_voice_de_17745113.mp3',\n",
       "  'audio': {'path': 'de_dev_0/common_voice_de_17745113.mp3',\n",
       "   'array': array([ 0.00000000e+00,  5.34275730e-15,  3.55570286e-15, ...,\n",
       "          -3.36459547e-04, -2.59274646e-04,  6.84560800e-05]),\n",
       "   'sampling_rate': 48000},\n",
       "  'sentence': 'Das ist doch absolut lächerlich!',\n",
       "  'up_votes': 2,\n",
       "  'down_votes': 0,\n",
       "  'age': 'thirties',\n",
       "  'gender': 'male',\n",
       "  'accent': 'Deutschland Deutsch',\n",
       "  'locale': 'de',\n",
       "  'segment': ''},\n",
       " {'client_id': '5dfa978d363da129606377dc0be9b4027132c57b31543b9a1b1dfbacb2e22fc85fc8e052de828a06cba179ec26a2fd36d3f2a2047316597af0c4f8d1a69191f5',\n",
       "  'path': 'de_dev_0/common_voice_de_17745114.mp3',\n",
       "  'audio': {'path': 'de_dev_0/common_voice_de_17745114.mp3',\n",
       "   'array': array([ 0.00000000e+00,  2.36197424e-15, -2.84470700e-15, ...,\n",
       "           0.00000000e+00,  0.00000000e+00,  0.00000000e+00]),\n",
       "   'sampling_rate': 48000},\n",
       "  'sentence': 'Dieses Fach ist für Reinigungsmittel.',\n",
       "  'up_votes': 2,\n",
       "  'down_votes': 0,\n",
       "  'age': 'thirties',\n",
       "  'gender': 'male',\n",
       "  'accent': 'Deutschland Deutsch',\n",
       "  'locale': 'de',\n",
       "  'segment': ''},\n",
       " {'client_id': '5f01451b0fe6ba2c2af0e5f24dfd48a103d1182229ce06974e33b3508955f18e07030fa7bce151dbdcac10727c04cd6ffaf1b388cd717cc79ed666104c408d76',\n",
       "  'path': 'de_dev_0/common_voice_de_21136952.mp3',\n",
       "  'audio': {'path': 'de_dev_0/common_voice_de_21136952.mp3',\n",
       "   'array': array([ 0.00000000e+00,  0.00000000e+00,  0.00000000e+00, ...,\n",
       "          -2.48678930e-06, -2.09508880e-06, -3.76173557e-06]),\n",
       "   'sampling_rate': 48000},\n",
       "  'sentence': 'Warum sehen wir dies nicht selbst, und warum fürchten wir uns, dies zuzugeben?',\n",
       "  'up_votes': 2,\n",
       "  'down_votes': 0,\n",
       "  'age': 'thirties',\n",
       "  'gender': 'male',\n",
       "  'accent': 'Deutschland Deutsch',\n",
       "  'locale': 'de',\n",
       "  'segment': ''},\n",
       " {'client_id': '5f01451b0fe6ba2c2af0e5f24dfd48a103d1182229ce06974e33b3508955f18e07030fa7bce151dbdcac10727c04cd6ffaf1b388cd717cc79ed666104c408d76',\n",
       "  'path': 'de_dev_0/common_voice_de_21136953.mp3',\n",
       "  'audio': {'path': 'de_dev_0/common_voice_de_21136953.mp3',\n",
       "   'array': array([ 0.00000000e+00, -4.05341010e-14, -3.54457640e-14, ...,\n",
       "           8.35262995e-07, -1.76344770e-07, -1.40208363e-06]),\n",
       "   'sampling_rate': 48000},\n",
       "  'sentence': 'Aber wer ist der Markt?',\n",
       "  'up_votes': 2,\n",
       "  'down_votes': 0,\n",
       "  'age': 'thirties',\n",
       "  'gender': 'male',\n",
       "  'accent': 'Deutschland Deutsch',\n",
       "  'locale': 'de',\n",
       "  'segment': ''},\n",
       " {'client_id': '5f01451b0fe6ba2c2af0e5f24dfd48a103d1182229ce06974e33b3508955f18e07030fa7bce151dbdcac10727c04cd6ffaf1b388cd717cc79ed666104c408d76',\n",
       "  'path': 'de_dev_0/common_voice_de_21136954.mp3',\n",
       "  'audio': {'path': 'de_dev_0/common_voice_de_21136954.mp3',\n",
       "   'array': array([ 0.00000000e+00, -3.94268629e-14, -6.58829816e-14, ...,\n",
       "           3.11845133e-06,  2.23704478e-06, -4.79781511e-06]),\n",
       "   'sampling_rate': 48000},\n",
       "  'sentence': 'Aber wer, wenn nicht die Europäische Union, könnte helfen, das Konzept nachhaltiger zu machen?',\n",
       "  'up_votes': 2,\n",
       "  'down_votes': 0,\n",
       "  'age': 'thirties',\n",
       "  'gender': 'male',\n",
       "  'accent': 'Deutschland Deutsch',\n",
       "  'locale': 'de',\n",
       "  'segment': ''},\n",
       " {'client_id': '5f01451b0fe6ba2c2af0e5f24dfd48a103d1182229ce06974e33b3508955f18e07030fa7bce151dbdcac10727c04cd6ffaf1b388cd717cc79ed666104c408d76',\n",
       "  'path': 'de_dev_0/common_voice_de_21136955.mp3',\n",
       "  'audio': {'path': 'de_dev_0/common_voice_de_21136955.mp3',\n",
       "   'array': array([ 0.00000000e+00,  1.51471853e-15,  3.67376756e-14, ...,\n",
       "          -3.92941729e-06,  1.13876536e-06,  1.88406125e-06]),\n",
       "   'sampling_rate': 48000},\n",
       "  'sentence': 'Auch hier ist eine „Trennung von Staat und Kirche“ erforderlich.',\n",
       "  'up_votes': 2,\n",
       "  'down_votes': 0,\n",
       "  'age': 'thirties',\n",
       "  'gender': 'male',\n",
       "  'accent': 'Deutschland Deutsch',\n",
       "  'locale': 'de',\n",
       "  'segment': ''},\n",
       " {'client_id': '5f01451b0fe6ba2c2af0e5f24dfd48a103d1182229ce06974e33b3508955f18e07030fa7bce151dbdcac10727c04cd6ffaf1b388cd717cc79ed666104c408d76',\n",
       "  'path': 'de_dev_0/common_voice_de_21136958.mp3',\n",
       "  'audio': {'path': 'de_dev_0/common_voice_de_21136958.mp3',\n",
       "   'array': array([ 0.00000000e+00, -9.78915842e-14, -1.03512759e-13, ...,\n",
       "           2.05734796e-06,  7.16095201e-07, -5.44438353e-06]),\n",
       "   'sampling_rate': 48000},\n",
       "  'sentence': 'Damit wird jedem Entwickler die Grundlage für ein neues Computerprogramm aus den Händen genommen.',\n",
       "  'up_votes': 2,\n",
       "  'down_votes': 0,\n",
       "  'age': 'thirties',\n",
       "  'gender': 'male',\n",
       "  'accent': 'Deutschland Deutsch',\n",
       "  'locale': 'de',\n",
       "  'segment': ''},\n",
       " {'client_id': '608123f2cfcac7938abcb58e3dd0ce1714d84b96ab5d0d936d2f962b1f3985c19ccbc831cfb4cf07ac83634e0d72d8463c3a86fdb2a04593293d2a7fb3661a47',\n",
       "  'path': 'de_dev_0/common_voice_de_18389465.mp3',\n",
       "  'audio': {'path': 'de_dev_0/common_voice_de_18389465.mp3',\n",
       "   'array': array([ 0.00000000e+00,  1.82847880e-15,  3.74445102e-16, ...,\n",
       "           4.49032541e-06, -1.43124926e-05, -1.00788748e-06]),\n",
       "   'sampling_rate': 48000},\n",
       "  'sentence': 'Von neunzehnhundertzweiundzwanzig bis neunzehnhundertvierzig war Kaunas die Hauptstadt von Litauen.',\n",
       "  'up_votes': 2,\n",
       "  'down_votes': 1,\n",
       "  'age': 'fifties',\n",
       "  'gender': 'female',\n",
       "  'accent': 'Deutschland Deutsch',\n",
       "  'locale': 'de',\n",
       "  'segment': ''},\n",
       " {'client_id': '608123f2cfcac7938abcb58e3dd0ce1714d84b96ab5d0d936d2f962b1f3985c19ccbc831cfb4cf07ac83634e0d72d8463c3a86fdb2a04593293d2a7fb3661a47',\n",
       "  'path': 'de_dev_0/common_voice_de_18389467.mp3',\n",
       "  'audio': {'path': 'de_dev_0/common_voice_de_18389467.mp3',\n",
       "   'array': array([ 0.00000000e+00,  3.48507898e-13,  4.15963921e-14, ...,\n",
       "          -5.73357429e-05,  9.08239090e-05,  1.36695035e-05]),\n",
       "   'sampling_rate': 48000},\n",
       "  'sentence': 'Rügen ist die größte Insel Deutschlands.',\n",
       "  'up_votes': 2,\n",
       "  'down_votes': 0,\n",
       "  'age': 'fifties',\n",
       "  'gender': 'female',\n",
       "  'accent': 'Deutschland Deutsch',\n",
       "  'locale': 'de',\n",
       "  'segment': ''},\n",
       " {'client_id': '608123f2cfcac7938abcb58e3dd0ce1714d84b96ab5d0d936d2f962b1f3985c19ccbc831cfb4cf07ac83634e0d72d8463c3a86fdb2a04593293d2a7fb3661a47',\n",
       "  'path': 'de_dev_0/common_voice_de_18389468.mp3',\n",
       "  'audio': {'path': 'de_dev_0/common_voice_de_18389468.mp3',\n",
       "   'array': array([0.00000000e+00, 1.18204475e-15, 8.45811420e-16, ...,\n",
       "          1.28736046e-05, 1.71240790e-05, 8.54751306e-06]),\n",
       "   'sampling_rate': 48000},\n",
       "  'sentence': 'Mehrfach in der Geschichte Chinas war Nanjing die Hauptstadt des Landes.',\n",
       "  'up_votes': 2,\n",
       "  'down_votes': 0,\n",
       "  'age': 'fifties',\n",
       "  'gender': 'female',\n",
       "  'accent': 'Deutschland Deutsch',\n",
       "  'locale': 'de',\n",
       "  'segment': ''}]"
      ]
     },
     "execution_count": 11,
     "metadata": {},
     "output_type": "execute_result"
    }
   ],
   "source": [
    "list(hola)"
   ]
  },
  {
   "cell_type": "code",
   "execution_count": null,
   "id": "8e8f55ff-1a22-482a-b096-ae2d3157e5ac",
   "metadata": {},
   "outputs": [],
   "source": []
  }
 ],
 "metadata": {
  "kernelspec": {
   "display_name": "Python 3 (ipykernel)",
   "language": "python",
   "name": "python3"
  },
  "language_info": {
   "codemirror_mode": {
    "name": "ipython",
    "version": 3
   },
   "file_extension": ".py",
   "mimetype": "text/x-python",
   "name": "python",
   "nbconvert_exporter": "python",
   "pygments_lexer": "ipython3",
   "version": "3.10.0"
  }
 },
 "nbformat": 4,
 "nbformat_minor": 5
}
